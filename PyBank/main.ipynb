{
 "cells": [
  {
   "cell_type": "code",
   "execution_count": 62,
   "metadata": {},
   "outputs": [],
   "source": [
    "# Import libraries\n",
    "from pathlib import Path\n",
    "import csv\n",
    "import pandas as pd\n",
    "\n",
    "# Set file path\n",
    "csv_path = Path(\"../Resources/02-Homework_02-Python_PyBank_Resources_budget_data.csv\")"
   ]
  },
  {
   "cell_type": "code",
   "execution_count": 109,
   "metadata": {},
   "outputs": [
    {
     "name": "stdout",
     "output_type": "stream",
     "text": [
      "Financial Analysis\n",
      "------------------------------\n",
      "Total Months: 86\n",
      "Total: $38382578\n",
      "Average Change: $-2315.12\n",
      "Greatest Increase in Profits: Feb-2012 ($1926159)\n",
      "Greatest Decrease in Profits: Sep-2013 ($-2196167)\n"
     ]
    }
   ],
   "source": [
    "# Set Data Frame\n",
    "df = pd.read_csv(csv_path, parse_dates=True)\n",
    "\n",
    "# Calculations\n",
    "    # Total months\n",
    "monthcount = df.shape[0]\n",
    "    \n",
    "    # Total Profits\n",
    "totalprofits = df['Profit/Losses'].sum()\n",
    "    \n",
    "    # Average Change\n",
    "daily_change = df['Profit/Losses'] - df['Profit/Losses'].shift(1)\n",
    "avg_change = daily_change.mean()\n",
    "\n",
    "    # Greatest Increase\n",
    "max_change = daily_change.max()\n",
    "df['Daily Change'] = daily_change\n",
    "increase_date = df.loc[df['Daily Change'].idxmax(), 'Date']\n",
    "\n",
    "    # Greatest Decrease\n",
    "min_change = daily_change.min()\n",
    "decrease_date = df.loc[df['Daily Change'].idxmin(), 'Date']\n",
    "\n",
    "# Open file with reader\n",
    "with open(csv_path,'r') as csv_file:\n",
    "    csv_reader = csv.reader(csv_file, delimiter = ',')\n",
    "    # Printing and Formatting outputs\n",
    "    print(\"Financial Analysis\")\n",
    "    print(\"------------------------------\")\n",
    "    print(f\"Total Months: {monthcount}\")\n",
    "    print(f\"Total: ${totalprofits}\")\n",
    "    print(f\"Average Change: ${avg_change:.2f}\")\n",
    "    print(f\"Greatest Increase in Profits: {increase_date} (${max_change:.0f})\")\n",
    "    print(f\"Greatest Decrease in Profits: {decrease_date} (${min_change:.0f})\")\n",
    "    \n",
    "    "
   ]
  },
  {
   "cell_type": "code",
   "execution_count": null,
   "metadata": {},
   "outputs": [],
   "source": []
  }
 ],
 "metadata": {
  "kernelspec": {
   "display_name": "Python 3",
   "language": "python",
   "name": "python3"
  },
  "language_info": {
   "codemirror_mode": {
    "name": "ipython",
    "version": 3
   },
   "file_extension": ".py",
   "mimetype": "text/x-python",
   "name": "python",
   "nbconvert_exporter": "python",
   "pygments_lexer": "ipython3",
   "version": "3.7.4"
  }
 },
 "nbformat": 4,
 "nbformat_minor": 4
}
